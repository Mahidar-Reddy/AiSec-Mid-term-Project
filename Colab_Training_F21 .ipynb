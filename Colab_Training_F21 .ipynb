{
  "nbformat": 4,
  "nbformat_minor": 0,
  "metadata": {
    "colab": {
      "name": "Colab_Training_F21.ipynb",
      "provenance": [],
      "machine_shape": "hm"
    },
    "kernelspec": {
      "name": "python3",
      "display_name": "Python 3"
    },
    "accelerator": "TPU"
  },
  "cells": [
    {
      "cell_type": "markdown",
      "metadata": {
        "id": "esNWMzKrVuWc"
      },
      "source": [
        "**Step 1:** Mount your Google Drive by clicking on \"Mount Drive\" in the Files section (panel to the left of this text.)\n",
        "\n",
        "**Step 2:** Go to Runtime -> Change runtime type and select TPU.\n",
        "\n",
        "**Step 3:** Create a folder in your Google Drive, and rename it to \"vMalConv\"\n",
        "\n",
        "**Step 4:** Download the pre-processed training and test datasets."
      ]
    },
    {
      "cell_type": "code",
      "metadata": {
        "id": "eUq_FZwmZegw",
        "colab": {
          "base_uri": "https://localhost:8080/"
        },
        "outputId": "37070fc8-a81f-4bc5-a832-de611deb48d5"
      },
      "source": [
        "!wget https://dsci6015aisecf21.s3.us-east-2.amazonaws.com/X_test.dat\n",
        "!wget https://dsci6015aisecf21.s3.us-east-2.amazonaws.com/X_train.dat\n",
        "!wget https://dsci6015aisecf21.s3.us-east-2.amazonaws.com/y_train.dat\n",
        "!wget https://dsci6015aisecf21.s3.us-east-2.amazonaws.com/y_test.dat\n",
        "!wget https://dsci6015aisecf21.s3.us-east-2.amazonaws.com/metadata.csv"
      ],
      "execution_count": null,
      "outputs": [
        {
          "output_type": "stream",
          "name": "stdout",
          "text": [
            "--2021-10-13 20:19:00--  https://dsci6015aisecf21.s3.us-east-2.amazonaws.com/X_test.dat\n",
            "Resolving dsci6015aisecf21.s3.us-east-2.amazonaws.com (dsci6015aisecf21.s3.us-east-2.amazonaws.com)... 52.219.99.82\n",
            "Connecting to dsci6015aisecf21.s3.us-east-2.amazonaws.com (dsci6015aisecf21.s3.us-east-2.amazonaws.com)|52.219.99.82|:443... connected.\n",
            "HTTP request sent, awaiting response... 200 OK\n",
            "Length: 1904800000 (1.8G) [application/x-www-form-urlencoded]\n",
            "Saving to: ‘X_test.dat’\n",
            "\n",
            "X_test.dat          100%[===================>]   1.77G   108MB/s    in 33s     \n",
            "\n",
            "2021-10-13 20:19:33 (55.7 MB/s) - ‘X_test.dat’ saved [1904800000/1904800000]\n",
            "\n",
            "--2021-10-13 20:19:33--  https://dsci6015aisecf21.s3.us-east-2.amazonaws.com/X_train.dat\n",
            "Resolving dsci6015aisecf21.s3.us-east-2.amazonaws.com (dsci6015aisecf21.s3.us-east-2.amazonaws.com)... 52.219.107.50\n",
            "Connecting to dsci6015aisecf21.s3.us-east-2.amazonaws.com (dsci6015aisecf21.s3.us-east-2.amazonaws.com)|52.219.107.50|:443... connected.\n",
            "HTTP request sent, awaiting response... 200 OK\n",
            "Length: 8571600000 (8.0G) [application/x-www-form-urlencoded]\n",
            "Saving to: ‘X_train.dat’\n",
            "\n",
            "X_train.dat         100%[===================>]   7.98G   108MB/s    in 2m 6s   \n",
            "\n",
            "2021-10-13 20:21:39 (65.0 MB/s) - ‘X_train.dat’ saved [8571600000/8571600000]\n",
            "\n",
            "--2021-10-13 20:21:39--  https://dsci6015aisecf21.s3.us-east-2.amazonaws.com/y_train.dat\n",
            "Resolving dsci6015aisecf21.s3.us-east-2.amazonaws.com (dsci6015aisecf21.s3.us-east-2.amazonaws.com)... 52.219.102.130\n",
            "Connecting to dsci6015aisecf21.s3.us-east-2.amazonaws.com (dsci6015aisecf21.s3.us-east-2.amazonaws.com)|52.219.102.130|:443... connected.\n",
            "HTTP request sent, awaiting response... 200 OK\n",
            "Length: 3600000 (3.4M) [binary/octet-stream]\n",
            "Saving to: ‘y_train.dat’\n",
            "\n",
            "y_train.dat         100%[===================>]   3.43M  16.8MB/s    in 0.2s    \n",
            "\n",
            "2021-10-13 20:21:39 (16.8 MB/s) - ‘y_train.dat’ saved [3600000/3600000]\n",
            "\n",
            "--2021-10-13 20:21:39--  https://dsci6015aisecf21.s3.us-east-2.amazonaws.com/y_test.dat\n",
            "Resolving dsci6015aisecf21.s3.us-east-2.amazonaws.com (dsci6015aisecf21.s3.us-east-2.amazonaws.com)... 52.219.102.130\n",
            "Connecting to dsci6015aisecf21.s3.us-east-2.amazonaws.com (dsci6015aisecf21.s3.us-east-2.amazonaws.com)|52.219.102.130|:443... connected.\n",
            "HTTP request sent, awaiting response... 200 OK\n",
            "Length: 800000 (781K) [binary/octet-stream]\n",
            "Saving to: ‘y_test.dat’\n",
            "\n",
            "y_test.dat          100%[===================>] 781.25K  --.-KB/s    in 0.1s    \n",
            "\n",
            "2021-10-13 20:21:40 (5.46 MB/s) - ‘y_test.dat’ saved [800000/800000]\n",
            "\n",
            "--2021-10-13 20:21:40--  https://dsci6015aisecf21.s3.us-east-2.amazonaws.com/metadata.csv\n",
            "Resolving dsci6015aisecf21.s3.us-east-2.amazonaws.com (dsci6015aisecf21.s3.us-east-2.amazonaws.com)... 52.219.102.130\n",
            "Connecting to dsci6015aisecf21.s3.us-east-2.amazonaws.com (dsci6015aisecf21.s3.us-east-2.amazonaws.com)|52.219.102.130|:443... connected.\n",
            "HTTP request sent, awaiting response... 200 OK\n",
            "Length: 96888920 (92M) [text/csv]\n",
            "Saving to: ‘metadata.csv’\n",
            "\n",
            "metadata.csv        100%[===================>]  92.40M  89.5MB/s    in 1.0s    \n",
            "\n",
            "2021-10-13 20:21:41 (89.5 MB/s) - ‘metadata.csv’ saved [96888920/96888920]\n",
            "\n"
          ]
        }
      ]
    },
    {
      "cell_type": "code",
      "metadata": {
        "colab": {
          "base_uri": "https://localhost:8080/"
        },
        "id": "AQ_JdZKfG7Q-",
        "outputId": "14289511-5218-4b65-88cd-967975e0c209"
      },
      "source": [
        "from google.colab import drive\n",
        "drive.mount('/content/drive')"
      ],
      "execution_count": null,
      "outputs": [
        {
          "output_type": "stream",
          "name": "stdout",
          "text": [
            "Mounted at /content/drive\n"
          ]
        }
      ]
    },
    {
      "cell_type": "markdown",
      "metadata": {
        "id": "9V958PbDW3H0"
      },
      "source": [
        "**Step 5:** Copy the downloaded files to vMalConv"
      ]
    },
    {
      "cell_type": "code",
      "metadata": {
        "id": "llip77F3amma"
      },
      "source": [
        "!cp /content/X_train.dat /content/drive/MyDrive/vMalConv/X_train.dat\n",
        "!cp /content/X_test.dat /content/drive/MyDrive/vMalConv/X_test.dat\n",
        "!cp /content/y_train.dat /content/drive/MyDrive/vMalConv/y_train.dat\n",
        "!cp /content/y_test.dat /content/drive/MyDrive/vMalConv/y_test.dat\n",
        "!cp /content/metadata.csv /content/drive/MyDrive/vMalConv/metadata.csv"
      ],
      "execution_count": null,
      "outputs": []
    },
    {
      "cell_type": "markdown",
      "metadata": {
        "id": "QbRilyqTXnrE"
      },
      "source": [
        "**Step 6:** Download and install Ember:"
      ]
    },
    {
      "cell_type": "code",
      "metadata": {
        "id": "76bc7PEmlwKB",
        "colab": {
          "base_uri": "https://localhost:8080/"
        },
        "outputId": "b2bdf255-0028-45a2-b07d-87a40a07fede"
      },
      "source": [
        "!wget https://github.com/endgameinc/ember/archive/master.zip\n",
        "!unzip master.zip\n",
        "!rm master.zip\n",
        "!cp -r ember-master/* .\n",
        "!rm -r ember-master\n",
        "!pip install -r requirements.txt\n",
        "!python setup.py install"
      ],
      "execution_count": null,
      "outputs": [
        {
          "output_type": "stream",
          "name": "stdout",
          "text": [
            "--2021-10-13 20:24:57--  https://github.com/endgameinc/ember/archive/master.zip\n",
            "Resolving github.com (github.com)... 140.82.113.3\n",
            "Connecting to github.com (github.com)|140.82.113.3|:443... connected.\n",
            "HTTP request sent, awaiting response... 301 Moved Permanently\n",
            "Location: https://github.com/elastic/ember/archive/master.zip [following]\n",
            "--2021-10-13 20:24:57--  https://github.com/elastic/ember/archive/master.zip\n",
            "Reusing existing connection to github.com:443.\n",
            "HTTP request sent, awaiting response... 302 Found\n",
            "Location: https://codeload.github.com/elastic/ember/zip/master [following]\n",
            "--2021-10-13 20:24:57--  https://codeload.github.com/elastic/ember/zip/master\n",
            "Resolving codeload.github.com (codeload.github.com)... 140.82.112.10\n",
            "Connecting to codeload.github.com (codeload.github.com)|140.82.112.10|:443... connected.\n",
            "HTTP request sent, awaiting response... 200 OK\n",
            "Length: unspecified [application/zip]\n",
            "Saving to: ‘master.zip’\n",
            "\n",
            "master.zip              [           <=>      ]  11.22M  4.17MB/s    in 2.7s    \n",
            "\n",
            "2021-10-13 20:25:00 (4.17 MB/s) - ‘master.zip’ saved [11769696]\n",
            "\n",
            "Archive:  master.zip\n",
            "4dee42918694d72d319e731940755146a71f5c6c\n",
            "   creating: ember-master/\n",
            "  inflating: ember-master/LICENSE.txt  \n",
            "  inflating: ember-master/README.md  \n",
            "   creating: ember-master/ember/\n",
            "  inflating: ember-master/ember/__init__.py  \n",
            "  inflating: ember-master/ember/features.py  \n",
            "   creating: ember-master/licenses/\n",
            "  inflating: ember-master/licenses/AGPL-LICENSE-3.0.txt  \n",
            "  inflating: ember-master/licenses/MIT-LICENSE.txt  \n",
            "   creating: ember-master/malconv/\n",
            "  inflating: ember-master/malconv/README.md  \n",
            "  inflating: ember-master/malconv/malconv.h5  \n",
            "  inflating: ember-master/malconv/malconv.py  \n",
            "  inflating: ember-master/malconv/multi_gpu.py  \n",
            "  inflating: ember-master/requirements.txt  \n",
            "  inflating: ember-master/requirements_conda.txt  \n",
            "  inflating: ember-master/requirements_notebook.txt  \n",
            "   creating: ember-master/resources/\n",
            "  inflating: ember-master/resources/ember-notebook.ipynb  \n",
            "  inflating: ember-master/resources/ember2018-notebook.ipynb  \n",
            "  inflating: ember-master/resources/logo.png  \n",
            "   creating: ember-master/scripts/\n",
            "  inflating: ember-master/scripts/classify_binaries.py  \n",
            "  inflating: ember-master/scripts/init_ember.py  \n",
            "  inflating: ember-master/setup.py   \n",
            "Collecting lief>=0.9.0\n",
            "  Downloading lief-0.11.5-cp37-cp37m-manylinux_2_17_x86_64.manylinux2014_x86_64.whl (3.9 MB)\n",
            "\u001b[K     |████████████████████████████████| 3.9 MB 1.2 MB/s \n",
            "\u001b[?25hRequirement already satisfied: tqdm>=4.31.0 in /usr/local/lib/python3.7/dist-packages (from -r requirements.txt (line 2)) (4.62.3)\n",
            "Requirement already satisfied: numpy>=1.16.3 in /usr/local/lib/python3.7/dist-packages (from -r requirements.txt (line 3)) (1.19.5)\n",
            "Requirement already satisfied: pandas>=0.24.2 in /usr/local/lib/python3.7/dist-packages (from -r requirements.txt (line 4)) (1.1.5)\n",
            "Requirement already satisfied: lightgbm>=2.2.3 in /usr/local/lib/python3.7/dist-packages (from -r requirements.txt (line 5)) (2.2.3)\n",
            "Requirement already satisfied: scikit-learn>=0.20.3 in /usr/local/lib/python3.7/dist-packages (from -r requirements.txt (line 6)) (0.22.2.post1)\n",
            "Requirement already satisfied: python-dateutil>=2.7.3 in /usr/local/lib/python3.7/dist-packages (from pandas>=0.24.2->-r requirements.txt (line 4)) (2.8.2)\n",
            "Requirement already satisfied: pytz>=2017.2 in /usr/local/lib/python3.7/dist-packages (from pandas>=0.24.2->-r requirements.txt (line 4)) (2018.9)\n",
            "Requirement already satisfied: scipy in /usr/local/lib/python3.7/dist-packages (from lightgbm>=2.2.3->-r requirements.txt (line 5)) (1.4.1)\n",
            "Requirement already satisfied: joblib>=0.11 in /usr/local/lib/python3.7/dist-packages (from scikit-learn>=0.20.3->-r requirements.txt (line 6)) (1.0.1)\n",
            "Requirement already satisfied: six>=1.5 in /usr/local/lib/python3.7/dist-packages (from python-dateutil>=2.7.3->pandas>=0.24.2->-r requirements.txt (line 4)) (1.15.0)\n",
            "Installing collected packages: lief\n",
            "Successfully installed lief-0.11.5\n",
            "running install\n",
            "running bdist_egg\n",
            "running egg_info\n",
            "creating ember.egg-info\n",
            "writing ember.egg-info/PKG-INFO\n",
            "writing dependency_links to ember.egg-info/dependency_links.txt\n",
            "writing requirements to ember.egg-info/requires.txt\n",
            "writing top-level names to ember.egg-info/top_level.txt\n",
            "writing manifest file 'ember.egg-info/SOURCES.txt'\n",
            "reading manifest file 'ember.egg-info/SOURCES.txt'\n",
            "adding license file 'LICENSE.txt'\n",
            "writing manifest file 'ember.egg-info/SOURCES.txt'\n",
            "installing library code to build/bdist.linux-x86_64/egg\n",
            "running install_lib\n",
            "running build_py\n",
            "creating build\n",
            "creating build/lib\n",
            "creating build/lib/ember\n",
            "copying ember/features.py -> build/lib/ember\n",
            "copying ember/__init__.py -> build/lib/ember\n",
            "creating build/bdist.linux-x86_64\n",
            "creating build/bdist.linux-x86_64/egg\n",
            "creating build/bdist.linux-x86_64/egg/ember\n",
            "copying build/lib/ember/features.py -> build/bdist.linux-x86_64/egg/ember\n",
            "copying build/lib/ember/__init__.py -> build/bdist.linux-x86_64/egg/ember\n",
            "byte-compiling build/bdist.linux-x86_64/egg/ember/features.py to features.cpython-37.pyc\n",
            "byte-compiling build/bdist.linux-x86_64/egg/ember/__init__.py to __init__.cpython-37.pyc\n",
            "creating build/bdist.linux-x86_64/egg/EGG-INFO\n",
            "copying ember.egg-info/PKG-INFO -> build/bdist.linux-x86_64/egg/EGG-INFO\n",
            "copying ember.egg-info/SOURCES.txt -> build/bdist.linux-x86_64/egg/EGG-INFO\n",
            "copying ember.egg-info/dependency_links.txt -> build/bdist.linux-x86_64/egg/EGG-INFO\n",
            "copying ember.egg-info/requires.txt -> build/bdist.linux-x86_64/egg/EGG-INFO\n",
            "copying ember.egg-info/top_level.txt -> build/bdist.linux-x86_64/egg/EGG-INFO\n",
            "zip_safe flag not set; analyzing archive contents...\n",
            "creating dist\n",
            "creating 'dist/ember-0.1.0-py3.7.egg' and adding 'build/bdist.linux-x86_64/egg' to it\n",
            "removing 'build/bdist.linux-x86_64/egg' (and everything under it)\n",
            "Processing ember-0.1.0-py3.7.egg\n",
            "Copying ember-0.1.0-py3.7.egg to /usr/local/lib/python3.7/dist-packages\n",
            "Adding ember 0.1.0 to easy-install.pth file\n",
            "\n",
            "Installed /usr/local/lib/python3.7/dist-packages/ember-0.1.0-py3.7.egg\n",
            "Processing dependencies for ember==0.1.0\n",
            "Searching for scikit-learn==0.22.2.post1\n",
            "Best match: scikit-learn 0.22.2.post1\n",
            "Adding scikit-learn 0.22.2.post1 to easy-install.pth file\n",
            "\n",
            "Using /usr/local/lib/python3.7/dist-packages\n",
            "Searching for lightgbm==2.2.3\n",
            "Best match: lightgbm 2.2.3\n",
            "Adding lightgbm 2.2.3 to easy-install.pth file\n",
            "\n",
            "Using /usr/local/lib/python3.7/dist-packages\n",
            "Searching for pandas==1.1.5\n",
            "Best match: pandas 1.1.5\n",
            "Adding pandas 1.1.5 to easy-install.pth file\n",
            "\n",
            "Using /usr/local/lib/python3.7/dist-packages\n",
            "Searching for numpy==1.19.5\n",
            "Best match: numpy 1.19.5\n",
            "Adding numpy 1.19.5 to easy-install.pth file\n",
            "Installing f2py script to /usr/local/bin\n",
            "Installing f2py3 script to /usr/local/bin\n",
            "Installing f2py3.7 script to /usr/local/bin\n",
            "\n",
            "Using /usr/local/lib/python3.7/dist-packages\n",
            "Searching for tqdm==4.62.3\n",
            "Best match: tqdm 4.62.3\n",
            "Adding tqdm 4.62.3 to easy-install.pth file\n",
            "Installing tqdm script to /usr/local/bin\n",
            "\n",
            "Using /usr/local/lib/python3.7/dist-packages\n",
            "Searching for lief==0.11.5\n",
            "Best match: lief 0.11.5\n",
            "Adding lief 0.11.5 to easy-install.pth file\n",
            "\n",
            "Using /usr/local/lib/python3.7/dist-packages\n",
            "Searching for scipy==1.4.1\n",
            "Best match: scipy 1.4.1\n",
            "Adding scipy 1.4.1 to easy-install.pth file\n",
            "\n",
            "Using /usr/local/lib/python3.7/dist-packages\n",
            "Searching for joblib==1.0.1\n",
            "Best match: joblib 1.0.1\n",
            "Adding joblib 1.0.1 to easy-install.pth file\n",
            "\n",
            "Using /usr/local/lib/python3.7/dist-packages\n",
            "Searching for pytz==2018.9\n",
            "Best match: pytz 2018.9\n",
            "Adding pytz 2018.9 to easy-install.pth file\n",
            "\n",
            "Using /usr/local/lib/python3.7/dist-packages\n",
            "Searching for python-dateutil==2.8.2\n",
            "Best match: python-dateutil 2.8.2\n",
            "Adding python-dateutil 2.8.2 to easy-install.pth file\n",
            "\n",
            "Using /usr/local/lib/python3.7/dist-packages\n",
            "Searching for six==1.15.0\n",
            "Best match: six 1.15.0\n",
            "Adding six 1.15.0 to easy-install.pth file\n",
            "\n",
            "Using /usr/local/lib/python3.7/dist-packages\n",
            "Finished processing dependencies for ember==0.1.0\n"
          ]
        }
      ]
    },
    {
      "cell_type": "markdown",
      "metadata": {
        "id": "AXym5qd8Yv8f"
      },
      "source": [
        "**Step 7:** Read vectorized features from the data files."
      ]
    },
    {
      "cell_type": "code",
      "metadata": {
        "id": "GfcHyoTsmCFH",
        "colab": {
          "base_uri": "https://localhost:8080/"
        },
        "outputId": "0a218dc2-4f3c-443a-ea3d-4c0c04431e7f"
      },
      "source": [
        "import ember\n",
        "X_train, y_train, X_test, y_test = ember.read_vectorized_features(\"drive/MyDrive/vMalConv/\")\n",
        "metadata_dataframe = ember.read_metadata(\"drive/MyDrive/vMalConv/\")"
      ],
      "execution_count": null,
      "outputs": [
        {
          "output_type": "stream",
          "name": "stdout",
          "text": [
            "WARNING: EMBER feature version 2 were computed using lief version 0.9.0-\n",
            "WARNING:   lief version 0.11.5-37bc2c9 found instead. There may be slight inconsistencies\n",
            "WARNING:   in the feature calculations.\n"
          ]
        },
        {
          "output_type": "stream",
          "name": "stderr",
          "text": [
            "/usr/local/lib/python3.7/dist-packages/numpy/lib/arraysetops.py:580: FutureWarning: elementwise comparison failed; returning scalar instead, but in the future will perform elementwise comparison\n",
            "  mask |= (ar1 == a)\n"
          ]
        }
      ]
    },
    {
      "cell_type": "markdown",
      "metadata": {
        "id": "FTRCz7m7Z7EH"
      },
      "source": [
        "**Step 7:** Get rid of rows with no labels."
      ]
    },
    {
      "cell_type": "code",
      "metadata": {
        "id": "Zj63lcvin44q"
      },
      "source": [
        "labelrows = (y_train != -1)\n",
        "X_train = X_train[labelrows]\n",
        "y_train = y_train[labelrows]"
      ],
      "execution_count": null,
      "outputs": []
    },
    {
      "cell_type": "code",
      "metadata": {
        "id": "mVG59AGooyC5"
      },
      "source": [
        "import h5py\n",
        "h5f = h5py.File('X_train.h5', 'w')\n",
        "h5f.create_dataset('X_train', data=X_train)\n",
        "h5f.close()\n",
        "h5f = h5py.File('y_train.h5', 'w')\n",
        "h5f.create_dataset('y_train', data=y_train)\n",
        "h5f.close()"
      ],
      "execution_count": null,
      "outputs": []
    },
    {
      "cell_type": "code",
      "metadata": {
        "id": "5tmUIJNvpZch"
      },
      "source": [
        "!cp /content/X_train.h5 /content/drive/MyDrive/vMalConv/X_train.h5\n",
        "!cp /content/y_train.h5 /content/drive/MyDrive/vMalConv/y_train.h5"
      ],
      "execution_count": null,
      "outputs": []
    },
    {
      "cell_type": "markdown",
      "metadata": {
        "id": "F1bRlBWlaQdd"
      },
      "source": [
        "> **Exercise 1:** Complete the following code to create the architecture of MalConv in Keras:"
      ]
    },
    {
      "cell_type": "code",
      "metadata": {
        "id": "K1UTVZi0qkGe"
      },
      "source": [
        "def make_model():\n",
        "  import tensorflow as tf\n",
        "  from tensorflow import keras\n",
        "  from tensorflow.keras import layers\n",
        "  feature_size=2381\n",
        "  tf.compat.v1.disable_eager_execution()\n",
        "\n",
        "  keras.backend.clear_session()\n",
        "  \n",
        "  # Model architecture\n",
        "  from tensorflow.keras import layers\n",
        "  \n",
        " ### Your code -- Define the layers of MalConv ###\n",
        "  inp = Input( shape=(maxlen,))\n",
        "  emb = Embedding( input_dim, embedding_size )( inp )\n",
        "  filt = Conv1D( filters=128, kernel_size=500, strides=500, use_bias=True, activation='relu', padding='valid' )(emb)\n",
        "  attn = Conv1D( filters=128, kernel_size=500, strides=500, use_bias=True, activation='sigmoid', padding='valid')(emb)\n",
        "  gated = Multiply()([filt,attn])\n",
        "  feat = GlobalMaxPooling1D()( gated )\n",
        "  dense = Dense(128, activation='relu')(feat)\n",
        "  outp = Dense(1, activation='sigmoid')(dense)\n",
        "  model.compile(tf.keras.optimizers.Adam(learning_rate=0.001),\n",
        "  loss='binary_crossentropy',\n",
        "  metrics=['accuracy',tf.keras.metrics.AUC(),tf.keras.metrics.Precision()])\n",
        "  print(model.summary())\n",
        "  return model"
      ],
      "execution_count": null,
      "outputs": []
    },
    {
      "cell_type": "code",
      "metadata": {
        "id": "Y17f2O2C-kZ_"
      },
      "source": [
        "#Function for the model\n",
        "def myModel():\n",
        "\n",
        "    import tensorflow as tf\n",
        "    from tensorflow import keras\n",
        "    from tensorflow.keras import layers\n",
        "    from tensorflow.keras.models import Sequential\n",
        "    from keras import regularizers\n",
        "    tf.compat.v1.disable_eager_execution()\n",
        "    \n",
        "    #Model architecture\n",
        "    model = Sequential()\n",
        "    model.add(layers.InputLayer(input_shape=(2381,))) \n",
        "    model.add(layers.Dropout(0.2))\n",
        "    model.add(layers.Dense(units = 1000, activation = tf.nn.relu, activity_regularizer=regularizers.l2(0.01)))\n",
        "    model.add(layers.Dropout(0.5))\n",
        "    model.add(layers.Dense(units = 1, activation=tf.nn.sigmoid))\n",
        "    print(model.summary())\n",
        "    \n",
        "    #model compilation\n",
        "    model.compile(optimizer='adam', loss='binary_crossentropy', metrics=['accuracy'])\n",
        "\n",
        "    model.save('my_model.h5')\n",
        "    \n",
        "    return model"
      ],
      "execution_count": null,
      "outputs": []
    },
    {
      "cell_type": "code",
      "metadata": {
        "id": "g1ZlKQwDv4uz",
        "colab": {
          "base_uri": "https://localhost:8080/"
        },
        "outputId": "086736e2-bd07-40ba-c625-bfb81271dce9"
      },
      "source": [
        "model = myModel()"
      ],
      "execution_count": null,
      "outputs": [
        {
          "output_type": "stream",
          "name": "stdout",
          "text": [
            "Model: \"sequential_1\"\n",
            "_________________________________________________________________\n",
            "Layer (type)                 Output Shape              Param #   \n",
            "=================================================================\n",
            "dropout_2 (Dropout)          (None, 2381)              0         \n",
            "_________________________________________________________________\n",
            "dense_2 (Dense)              (None, 1000)              2382000   \n",
            "_________________________________________________________________\n",
            "dropout_3 (Dropout)          (None, 1000)              0         \n",
            "_________________________________________________________________\n",
            "dense_3 (Dense)              (None, 1)                 1001      \n",
            "=================================================================\n",
            "Total params: 2,383,001\n",
            "Trainable params: 2,383,001\n",
            "Non-trainable params: 0\n",
            "_________________________________________________________________\n",
            "None\n"
          ]
        }
      ]
    },
    {
      "cell_type": "markdown",
      "metadata": {
        "id": "pihnLcFmbaet"
      },
      "source": [
        "**Step 8:** Partial fit the standardScaler to avoid overloading the memory:"
      ]
    },
    {
      "cell_type": "code",
      "metadata": {
        "id": "H4q5OfK9v9iN"
      },
      "source": [
        "from sklearn.preprocessing import StandardScaler\n",
        "mms = StandardScaler()\n",
        "for x in range(0,600000,100000):\n",
        "  mms.partial_fit(X_train[x:x+100000])"
      ],
      "execution_count": null,
      "outputs": []
    },
    {
      "cell_type": "code",
      "metadata": {
        "id": "B33Oa1sTxdB0"
      },
      "source": [
        "X_train = mms.transform(X_train)"
      ],
      "execution_count": null,
      "outputs": []
    },
    {
      "cell_type": "code",
      "metadata": {
        "colab": {
          "base_uri": "https://localhost:8080/"
        },
        "id": "4130uIDEA5FJ",
        "outputId": "5a40168b-3cfa-40c2-ad9c-3a75076554d4"
      },
      "source": [
        "X_train.shape"
      ],
      "execution_count": null,
      "outputs": [
        {
          "output_type": "execute_result",
          "data": {
            "text/plain": [
              "(600000, 2381)"
            ]
          },
          "metadata": {},
          "execution_count": 35
        }
      ]
    },
    {
      "cell_type": "code",
      "metadata": {
        "id": "V_vl5yrex0yY"
      },
      "source": [
        "## Reshape to create 3 channels ##\n",
        "#import numpy as np\n",
        "#X_train = np.reshape(X_train,(-1,1,2381))\n",
        "#y_train = np.reshape(y_train,(-1,1,1))"
      ],
      "execution_count": null,
      "outputs": []
    },
    {
      "cell_type": "markdown",
      "metadata": {
        "id": "2zMgth6McCqV"
      },
      "source": [
        "> **Exercise 2:** Complete the following code to train the model for 30 epochs, with a batch size of 128, and 20% validation split. "
      ]
    },
    {
      "cell_type": "code",
      "metadata": {
        "id": "IncS7YgW6xJZ",
        "colab": {
          "base_uri": "https://localhost:8080/"
        },
        "outputId": "56008fba-6595-4566-f70c-e9e250e6218d"
      },
      "source": [
        "%tensorflow_version 2.x\n",
        "import tensorflow as tf\n",
        "tf.compat.v1.disable_eager_execution()\n",
        "\n",
        "save_dir = \"drive/MyDrive/vMalConv/\"\n",
        "\n",
        "#callback = tf.keras.callbacks.EarlyStopping(monitor='val_loss', patience=10)\n",
        "\n",
        "### Your code ###\n",
        "\n",
        "history = model.fit(X_train, y_train,batch_size=256,epochs=30,validation_split=.2)\n",
        "# Save the weights #\n",
        "model.save_weights (save_dir+'weights.h5')\n",
        "\n",
        "# Save the model architecture #\n",
        "model_json = model.to_json()\n",
        "with open(save_dir+\"model.json\", \"w\") as json_file:\n",
        "    json_file.write(model_json)\n",
        "\n",
        "print(\"model saved.\")"
      ],
      "execution_count": null,
      "outputs": [
        {
          "output_type": "stream",
          "name": "stdout",
          "text": [
            "Train on 480000 samples, validate on 120000 samples\n",
            "Epoch 1/30\n",
            "479232/480000 [============================>.] - ETA: 0s - loss: 51.2133 - accuracy: 0.9364"
          ]
        },
        {
          "output_type": "stream",
          "name": "stderr",
          "text": [
            "/usr/local/lib/python3.7/dist-packages/keras/engine/training.py:2470: UserWarning: `Model.state_updates` will be removed in a future version. This property should not be used in TensorFlow 2.0, as `updates` are applied automatically.\n",
            "  warnings.warn('`Model.state_updates` will be removed in a future version. '\n"
          ]
        },
        {
          "output_type": "stream",
          "name": "stdout",
          "text": [
            "480000/480000 [==============================] - 31s 66us/sample - loss: 51.1332 - accuracy: 0.9364 - val_loss: 30.9278 - val_accuracy: 0.9478\n",
            "Epoch 2/30\n",
            "480000/480000 [==============================] - 33s 70us/sample - loss: 39.9438 - accuracy: 0.9338 - val_loss: 23.0442 - val_accuracy: 0.9712\n",
            "Epoch 3/30\n",
            "480000/480000 [==============================] - 30s 63us/sample - loss: 32.8642 - accuracy: 0.9353 - val_loss: 16.5891 - val_accuracy: 0.9741\n",
            "Epoch 4/30\n",
            "480000/480000 [==============================] - 36s 74us/sample - loss: 25.9813 - accuracy: 0.9377 - val_loss: 14.1714 - val_accuracy: 0.9739\n",
            "Epoch 5/30\n",
            "480000/480000 [==============================] - 33s 69us/sample - loss: 24.9268 - accuracy: 0.9366 - val_loss: 13.1503 - val_accuracy: 0.9728\n",
            "Epoch 6/30\n",
            "480000/480000 [==============================] - 30s 63us/sample - loss: 6.6028 - accuracy: 0.9370 - val_loss: 11.7890 - val_accuracy: 0.9755\n",
            "Epoch 7/30\n",
            "480000/480000 [==============================] - 27s 57us/sample - loss: 18.8427 - accuracy: 0.9363 - val_loss: 12.5468 - val_accuracy: 0.9750\n",
            "Epoch 8/30\n",
            "480000/480000 [==============================] - 26s 53us/sample - loss: 8.0968 - accuracy: 0.9351 - val_loss: 10.6113 - val_accuracy: 0.9753\n",
            "Epoch 9/30\n",
            "480000/480000 [==============================] - 27s 56us/sample - loss: 12.7181 - accuracy: 0.9355 - val_loss: 9.4097 - val_accuracy: 0.9728\n",
            "Epoch 10/30\n",
            "480000/480000 [==============================] - 27s 57us/sample - loss: 10.6360 - accuracy: 0.9345 - val_loss: 9.0993 - val_accuracy: 0.9708\n",
            "Epoch 11/30\n",
            "480000/480000 [==============================] - 40s 83us/sample - loss: 11.2899 - accuracy: 0.9335 - val_loss: 8.9503 - val_accuracy: 0.9761\n",
            "Epoch 12/30\n",
            "480000/480000 [==============================] - 38s 79us/sample - loss: 9.5657 - accuracy: 0.9343 - val_loss: 9.3599 - val_accuracy: 0.9730\n",
            "Epoch 13/30\n",
            "480000/480000 [==============================] - 35s 74us/sample - loss: 6.7353 - accuracy: 0.9347 - val_loss: 9.3156 - val_accuracy: 0.9728\n",
            "Epoch 14/30\n",
            "480000/480000 [==============================] - 28s 58us/sample - loss: 5.5283 - accuracy: 0.9336 - val_loss: 12.3443 - val_accuracy: 0.9732\n",
            "Epoch 15/30\n",
            "480000/480000 [==============================] - 28s 58us/sample - loss: 1.9667 - accuracy: 0.9342 - val_loss: 16.5088 - val_accuracy: 0.9720\n",
            "Epoch 16/30\n",
            "480000/480000 [==============================] - 34s 72us/sample - loss: 4.7703 - accuracy: 0.9337 - val_loss: 15.7998 - val_accuracy: 0.9751\n",
            "Epoch 17/30\n",
            "480000/480000 [==============================] - 37s 77us/sample - loss: 0.9466 - accuracy: 0.9341 - val_loss: 14.7955 - val_accuracy: 0.9760\n",
            "Epoch 18/30\n",
            "480000/480000 [==============================] - 38s 79us/sample - loss: 3.2299 - accuracy: 0.9337 - val_loss: 15.3746 - val_accuracy: 0.9736\n",
            "Epoch 19/30\n",
            "480000/480000 [==============================] - 40s 83us/sample - loss: 0.8636 - accuracy: 0.9332 - val_loss: 15.8410 - val_accuracy: 0.9758\n",
            "Epoch 20/30\n",
            "480000/480000 [==============================] - 29s 60us/sample - loss: 2.7481 - accuracy: 0.9337 - val_loss: 15.6602 - val_accuracy: 0.9729\n",
            "Epoch 21/30\n",
            "480000/480000 [==============================] - 29s 60us/sample - loss: 2.3578 - accuracy: 0.9345 - val_loss: 17.7298 - val_accuracy: 0.9730\n",
            "Epoch 22/30\n",
            "480000/480000 [==============================] - 30s 62us/sample - loss: 1.8874 - accuracy: 0.9333 - val_loss: 18.3722 - val_accuracy: 0.9752\n",
            "Epoch 23/30\n",
            "480000/480000 [==============================] - 36s 75us/sample - loss: 1.3986 - accuracy: 0.9335 - val_loss: 20.7038 - val_accuracy: 0.9752\n",
            "Epoch 24/30\n",
            "480000/480000 [==============================] - 24s 51us/sample - loss: 1.2309 - accuracy: 0.9326 - val_loss: 23.0695 - val_accuracy: 0.9741\n",
            "Epoch 25/30\n",
            "480000/480000 [==============================] - 35s 73us/sample - loss: 0.9859 - accuracy: 0.9330 - val_loss: 26.4578 - val_accuracy: 0.9734\n",
            "Epoch 26/30\n",
            "480000/480000 [==============================] - 32s 66us/sample - loss: 0.8263 - accuracy: 0.9331 - val_loss: 25.6343 - val_accuracy: 0.9753\n",
            "Epoch 27/30\n",
            "480000/480000 [==============================] - 31s 66us/sample - loss: 0.6867 - accuracy: 0.9323 - val_loss: 27.0618 - val_accuracy: 0.9747\n",
            "Epoch 28/30\n",
            "480000/480000 [==============================] - 23s 49us/sample - loss: 1.6291 - accuracy: 0.9321 - val_loss: 30.0839 - val_accuracy: 0.9705\n",
            "Epoch 29/30\n",
            "480000/480000 [==============================] - 23s 48us/sample - loss: 0.7946 - accuracy: 0.9320 - val_loss: 33.3356 - val_accuracy: 0.9739\n",
            "Epoch 30/30\n",
            "480000/480000 [==============================] - 22s 47us/sample - loss: 3.5247 - accuracy: 0.9317 - val_loss: 38.5728 - val_accuracy: 0.9755\n",
            "model saved.\n"
          ]
        }
      ]
    },
    {
      "cell_type": "markdown",
      "metadata": {
        "id": "om_qWZMvebjB"
      },
      "source": [
        "**Final Steps:** Download this Jupyter Notebook, and the saved model files."
      ]
    }
  ]
}